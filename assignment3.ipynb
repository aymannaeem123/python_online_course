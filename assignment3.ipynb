{
 "cells": [
  {
   "cell_type": "code",
   "execution_count": 3,
   "metadata": {},
   "outputs": [
    {
     "name": "stdout",
     "output_type": "stream",
     "text": [
      "Enter first value5\n",
      "Enter second value3\n",
      "Enter operator**\n",
      "Answer=  125\n"
     ]
    }
   ],
   "source": [
    "#Program to make a calculator\n",
    "val1 = int(input(\"Enter first value\"))\n",
    "val2 = int(input(\"Enter second value\"))\n",
    "operator = input(\"Enter operator\")\n",
    "if operator == \"+\":\n",
    "    value = val1 + val2\n",
    "    print('Answer= ',value)\n",
    "elif operator == \"-\":\n",
    "    value = val1-val2\n",
    "    print('Answer= ',value)\n",
    "elif operator == \"*\":\n",
    "    value = val1*val2\n",
    "    print('Answer= ',value)\n",
    "elif operator == \"/\":\n",
    "    value = val1/val2\n",
    "    print('Answer= ',value)\n",
    "elif operator == \"**\":\n",
    "    value = val1**val2\n",
    "    print('Answer= ',value)\n",
    "else:\n",
    "    print(\"Enter correct operator\")"
   ]
  },
  {
   "cell_type": "code",
   "execution_count": 14,
   "metadata": {},
   "outputs": [
    {
     "name": "stdout",
     "output_type": "stream",
     "text": [
      "Numeric values in list : [24, 18, 8, 21]\n"
     ]
    }
   ],
   "source": [
    "#program to find a numeric value from list\n",
    "list_1 = ['Rs. 24', 'Rs. 18', 'Rs. 8', 'Rs. 21']  \n",
    "res = [int(sub.split('.')[1]) for sub in list_1] \n",
    "print(\"Numeric values in list : \" + str(res)) "
   ]
  },
  {
   "cell_type": "code",
   "execution_count": 17,
   "metadata": {},
   "outputs": [
    {
     "name": "stdout",
     "output_type": "stream",
     "text": [
      "Repeated numbers are:  [10, 30, 50]\n"
     ]
    }
   ],
   "source": [
    "#program to find duplicate numbers in the list\n",
    "list1 = [10, 30, 50, 90, 60, 30, 20, 10, 100, 50] \n",
    "def Repeat(x): \n",
    "    _size = len(x) \n",
    "    repeated = [] \n",
    "    for i in range(_size): \n",
    "        k = i + 1\n",
    "        for j in range(k, _size): \n",
    "            if x[i] == x[j] and x[i] not in repeated: \n",
    "                repeated.append(x[i]) \n",
    "    return repeated \n",
    "print (\"Repeated numbers are: \",Repeat(list1)) "
   ]
  },
  {
   "cell_type": "code",
   "execution_count": 21,
   "metadata": {},
   "outputs": [
    {
     "name": "stdout",
     "output_type": "stream",
     "text": [
      "{'Ali': 100, 'Umer': 101, 'Saira': 102}\n",
      "Updated dictionary:  {'Ali': 100, 'Umer': 101, 'Saira': 102, 'Salman': 103}\n"
     ]
    }
   ],
   "source": [
    "#program to add a key to a dictionary\n",
    "d = {'Ali':100, 'Umer':101, 'Saira':102}\n",
    "print(d)\n",
    "d.update({'Salman':103})\n",
    "print(\"Updated dictionary: \",d)"
   ]
  },
  {
   "cell_type": "code",
   "execution_count": 22,
   "metadata": {},
   "outputs": [
    {
     "name": "stdout",
     "output_type": "stream",
     "text": [
      "75\n"
     ]
    }
   ],
   "source": [
    "#program to  find sum of dictionary\n",
    "my_dict = {'data1':12,'data2':24,'data3':39}\n",
    "print(sum(my_dict.values()))"
   ]
  },
  {
   "cell_type": "code",
   "execution_count": 38,
   "metadata": {},
   "outputs": [
    {
     "name": "stdout",
     "output_type": "stream",
     "text": [
      "Key is present in the dictionary\n",
      "value= of key=  40\n",
      "Key is not present in the dictionary\n"
     ]
    }
   ],
   "source": [
    "#program to find given key exists in dictionary\n",
    "dict = {'a': 10, 'b': 20, 'c': 30, 'd': 40, 'e': 50, 'f': 60}\n",
    "def is_key_present(key):\n",
    "  if key in d:\n",
    "      print('Key is present in the dictionary')\n",
    "      print('value= of key= ',d[key])\n",
    "  else:\n",
    "      print('Key is not present in the dictionary')\n",
    "is_key_present('d')\n",
    "is_key_present('g')"
   ]
  }
 ],
 "metadata": {
  "kernelspec": {
   "display_name": "Python 3",
   "language": "python",
   "name": "python3"
  },
  "language_info": {
   "codemirror_mode": {
    "name": "ipython",
    "version": 3
   },
   "file_extension": ".py",
   "mimetype": "text/x-python",
   "name": "python",
   "nbconvert_exporter": "python",
   "pygments_lexer": "ipython3",
   "version": "3.7.4"
  }
 },
 "nbformat": 4,
 "nbformat_minor": 2
}
