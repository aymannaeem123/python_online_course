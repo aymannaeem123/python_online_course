{
 "cells": [
  {
   "cell_type": "code",
   "execution_count": 12,
   "metadata": {},
   "outputs": [
    {
     "name": "stdout",
     "output_type": "stream",
     "text": [
      "ENTER YOUR ENGLISH MARKS 75\n",
      "ENTER YOUR SINDHI MARKS 80\n",
      "ENTER YOUR PAKISTAN_STUDIES MARKS 60\n",
      "ENTER YOUR CHEMISTRY MARKS 80\n",
      "ENTER YOUR BIOLOGY MARKS 75\n",
      "total marks  370\n",
      "percentage: 74.00\n",
      "A\n"
     ]
    }
   ],
   "source": [
    "#program to find the grade of a student\n",
    "English = int(input(\"ENTER YOUR ENGLISH MARKS \"));\n",
    "Sindhi = int(input(\"ENTER YOUR SINDHI MARKS \")); \n",
    "Pakistan_studies = int(input(\"ENTER YOUR PAKISTAN_STUDIES MARKS \"));\n",
    "Chemistry = int(input(\"ENTER YOUR CHEMISTRY MARKS \"));\n",
    "Biology = int(input(\"ENTER YOUR BIOLOGY MARKS \"));\n",
    "Total = English + Sindhi + Pakistan_studies + Chemistry + Biology\n",
    "print(\"total marks \",Total)\n",
    "percentage = (Total/500)*100\n",
    "print(\"percentage: %.2f\" %percentage)\n",
    "if percentage >= 80.00:\n",
    "    print(\"A+\")\n",
    "elif percentage >= 70.00 and percentage < 80.00:\n",
    "    print(\"A\")\n",
    "elif percentage >= 60.00 and percentage < 70.00:\n",
    "    print(\"B\")\n",
    "elif percentage >= 50.00 and percentage < 60.00:\n",
    "    print(\"C\")\n",
    "elif percentage>= 33.00 and percentage < 50.00:\n",
    "    print(\"D\")\n",
    "elif percentage < 33.00:\n",
    "    print(\"fail\")"
   ]
  },
  {
   "cell_type": "code",
   "execution_count": 13,
   "metadata": {},
   "outputs": [
    {
     "name": "stdout",
     "output_type": "stream",
     "text": [
      "Enter a number93\n",
      "It is an odd number\n"
     ]
    }
   ],
   "source": [
    "#program to find whether a number is even or odd\n",
    "Number = int(input(\"Enter a number\"));\n",
    "if Number % 2 == 0:\n",
    "    print(\"It is an Even Number\")\n",
    "else :\n",
    "    print(\"It is an odd number\")"
   ]
  },
  {
   "cell_type": "code",
   "execution_count": 14,
   "metadata": {},
   "outputs": [
    {
     "name": "stdout",
     "output_type": "stream",
     "text": [
      "list length:  5\n"
     ]
    }
   ],
   "source": [
    "#program to find the length of a list\n",
    "list = ['Zara','Haya','Salman','Sairah','Umair']\n",
    "print(\"list length: \",len(list))"
   ]
  },
  {
   "cell_type": "code",
   "execution_count": 15,
   "metadata": {},
   "outputs": [
    {
     "name": "stdout",
     "output_type": "stream",
     "text": [
      "sum of numbers in the given list:  210\n"
     ]
    }
   ],
   "source": [
    "#program to find the sum of a given list\n",
    "total = 0\n",
    "n = 0\n",
    "list1 = [10,20,30,40,50,60]\n",
    "while(n<len(list1)):\n",
    "    total = total + list1[n]\n",
    "    n+=1\n",
    "print(\"sum of numbers in the given list: \",total)"
   ]
  },
  {
   "cell_type": "code",
   "execution_count": 16,
   "metadata": {},
   "outputs": [
    {
     "name": "stdout",
     "output_type": "stream",
     "text": [
      "largest number in the list is:  800\n"
     ]
    }
   ],
   "source": [
    "#program to find the largest number in the list\n",
    "list1 = [10,50,90,100,800]\n",
    "largest_number = max(list1)\n",
    "print(\"largest number in the list is: \",largest_number)"
   ]
  },
  {
   "cell_type": "code",
   "execution_count": 23,
   "metadata": {},
   "outputs": [
    {
     "name": "stdout",
     "output_type": "stream",
     "text": [
      "1\n",
      "1\n",
      "2\n",
      "3\n"
     ]
    }
   ],
   "source": [
    "#program to find the elements of the list less than 5 \n",
    "a = [1,1,2,3,5,8,13,21,34,55,83]\n",
    "def print_less_than_five():\n",
    "    for i in range(len(a)):\n",
    "        if a[i]<5:\n",
    "            print(a[i])\n",
    "print_less_than_five()"
   ]
  }
 ],
 "metadata": {
  "kernelspec": {
   "display_name": "Python 3",
   "language": "python",
   "name": "python3"
  },
  "language_info": {
   "codemirror_mode": {
    "name": "ipython",
    "version": 3
   },
   "file_extension": ".py",
   "mimetype": "text/x-python",
   "name": "python",
   "nbconvert_exporter": "python",
   "pygments_lexer": "ipython3",
   "version": "3.7.4"
  }
 },
 "nbformat": 4,
 "nbformat_minor": 2
}
