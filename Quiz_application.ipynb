{
 "cells": [
  {
   "cell_type": "code",
   "execution_count": 17,
   "metadata": {},
   "outputs": [
    {
     "name": "stdout",
     "output_type": "stream",
     "text": [
      "1:What is your country name?\n",
      "Pakistan\n",
      "USA\n",
      "UAE\n",
      "Africa\n",
      "Pakistan\n",
      "2:What is your city name?\n",
      "Islamabad\n",
      "Karachi\n",
      "Quetta\n",
      "Lahore\n",
      "Islamabd\n",
      "3:What is the capital of Pakistan?\n",
      "Islamabad\n",
      "Karachi\n",
      "Quetta\n",
      "Rawalpindi\n",
      "Islamabad\n",
      "4:How many provinces of Pakistan are there?\n",
      "Three\n",
      "Two\n",
      "Six\n",
      "Four\n",
      "Four\n",
      "5:Which is the largest province of Pakistan?\n",
      "Balochistan\n",
      "KPK\n",
      "Sindh\n",
      "Punjab\n",
      "Balochistan\n",
      "your score is :4\n",
      "Percentage =  80.0\n"
     ]
    }
   ],
   "source": [
    "#Quiz Application\n",
    "quiz = [\n",
    "    {\n",
    "        \"Serial no.\" : 1,\n",
    "        \"Question\"   : \"What is your country name?\",\n",
    "        \"Options\"    : [\"Pakistan\",\"USA\",\"UAE\",\"Africa\"],\n",
    "        \"Answer\"     : \"Pakistan\" \n",
    "    },\n",
    "    {\n",
    "        \"Serial no.\" : 2,\n",
    "        \"Question\"   : \"What is your city name?\",\n",
    "        \"Options\"    : [\"Islamabad\",\"Karachi\",\"Quetta\",\"Lahore\"],\n",
    "        \"Answer\"     : \"Karachi\"\n",
    "    },\n",
    "    {\n",
    "        \"Serial no.\" : 3,\n",
    "        \"Question\"   : \"What is the capital of Pakistan?\",\n",
    "        \"Options\"    : [\"Islamabad\",\"Karachi\",\"Quetta\",\"Rawalpindi\"],\n",
    "        \"Answer\"     : \"Islamabad\" \n",
    "    },\n",
    "    {\n",
    "        \"Serial no.\" : 4,\n",
    "        \"Question\"   : \"How many provinces of Pakistan are there?\",\n",
    "        \"Options\"    : [\"Three\", \"Two\", \"Six\", \"Four\"],\n",
    "        \"Answer\"     : \"Four\" \n",
    "    },\n",
    "    {\n",
    "        \"Serial no.\" : 5,\n",
    "        \"Question\"   : \"Which is the largest province of Pakistan?\",\n",
    "        \"Options\"    : [\"Balochistan\",\"KPK\",\"Sindh\",\"Punjab\"],\n",
    "        \"Answer\"     : \"Balochistan\"\n",
    "    }       \n",
    "]\n",
    "score = 0\n",
    "for Question in quiz:\n",
    "    data = str(Question[\"Serial no.\"]) +\":\"+ Question[\"Question\"] +\"\\n\"+ Question[\"Options\"][0] +\"\\n\"+ Question[\"Options\"][1] +\"\\n\"+ Question[\"Options\"][2] +\"\\n\"+ Question[\"Options\"][3] +\"\\n\"\n",
    "    Answer = input(data)\n",
    "    if Answer == Question[\"Answer\"]:\n",
    "               score += 1\n",
    "print(\"your score is :\" + str(score))\n",
    "percentage = (score/5)*100\n",
    "print(\"Percentage = \",percentage)\n",
    "        "
   ]
  }
 ],
 "metadata": {
  "kernelspec": {
   "display_name": "Python 3",
   "language": "python",
   "name": "python3"
  },
  "language_info": {
   "codemirror_mode": {
    "name": "ipython",
    "version": 3
   },
   "file_extension": ".py",
   "mimetype": "text/x-python",
   "name": "python",
   "nbconvert_exporter": "python",
   "pygments_lexer": "ipython3",
   "version": "3.7.4"
  }
 },
 "nbformat": 4,
 "nbformat_minor": 2
}
