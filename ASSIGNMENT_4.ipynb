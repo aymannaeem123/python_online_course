{
 "cells": [
  {
   "cell_type": "code",
   "execution_count": 1,
   "metadata": {},
   "outputs": [
    {
     "name": "stdout",
     "output_type": "stream",
     "text": [
      "{'first_name': 'Ayman', 'last_name': 'Naeem khan', 'Age': 20, 'City': 'Karachi'}\n",
      "{'first_name': 'Ayman', 'last_name': 'Naeem khan', 'Age': 20, 'City': 'Karachi', 'Qualification': 'Intermediate'}\n",
      "{'first_name': 'Ayman', 'last_name': 'Naeem khan', 'Age': 20, 'City': 'Karachi', 'Qualification': 'Undergraduate'}\n",
      "{'first_name': 'Ayman', 'last_name': 'Naeem khan', 'Age': 20, 'City': 'Karachi'}\n"
     ]
    }
   ],
   "source": [
    "#Question 1:\n",
    "personal_information = {\"first_name\" : \"Ayman\",\n",
    "                        \n",
    "                       \"last_name\" : \"Naeem khan\",\n",
    "                        \n",
    "                        \"Age\" : 20,\n",
    "                        \n",
    "                        \"City\" : \"Karachi\"\n",
    "                        \n",
    "                         }\n",
    "print(personal_information)\n",
    "personal_information[\"Qualification\"] = \"Intermediate\"\n",
    "print(personal_information)\n",
    "personal_information.update({\"Qualification\" : \"Undergraduate\"})\n",
    "print(personal_information)\n",
    "del personal_information[\"Qualification\"]\n",
    "print(personal_information)"
   ]
  },
  {
   "cell_type": "code",
   "execution_count": 12,
   "metadata": {},
   "outputs": [
    {
     "name": "stdout",
     "output_type": "stream",
     "text": [
      "{'Country': 'Pakistan', 'Population': 14.91, 'Fact': 'Sixth largest city according to population'}\n",
      "{'Country': 'India', 'Population': 18.98, 'Fact': 'Second most populated city'}\n",
      "{'Country': 'USA', 'Population': 711571, 'Fact': 'Washington DC have no J street'}\n"
     ]
    }
   ],
   "source": [
    "#Question 2:\n",
    "cities = {\n",
    "   \"karachi\" : {\n",
    "                \"Country\"    : \"Pakistan\",\n",
    "                \"Population\" : 14.91 ,\n",
    "                \"Fact\"       : \"Sixth largest city according to population\"\n",
    "             },\n",
    "   \"Delhi\" :   {\n",
    "                \"Country\"    : \"India\",\n",
    "                \"Population\" : 18.98 ,\n",
    "                \"Fact\"       : \"Second most populated city\"\n",
    "             },\n",
    "   \"Washington,D.C\" : {\n",
    "                \"Country\"    : \"USA\",\n",
    "                \"Population\" : 711571 ,\n",
    "                \"Fact\"       : \"Washington DC have no J street\"\n",
    "            }\n",
    "}\n",
    "print(cities[\"karachi\"])\n",
    "print(cities[\"Delhi\"])\n",
    "print(cities[\"Washington,D.C\"])"
   ]
  },
  {
   "cell_type": "code",
   "execution_count": 3,
   "metadata": {},
   "outputs": [
    {
     "name": "stdout",
     "output_type": "stream",
     "text": [
      "what is your age?20\n",
      "TICKET IS $15\n"
     ]
    }
   ],
   "source": [
    "#Question 3:\n",
    "age = int(input(\"what is your age?\"))\n",
    "if age >= 0 and age < 3:\n",
    "    print(\"TICKET IS FREE\")\n",
    "elif age <= 12 and age >= 3:\n",
    "    print(\"TICKET IS $10\")\n",
    "else:\n",
    "    print(\"TICKET IS $15\")"
   ]
  },
  {
   "cell_type": "code",
   "execution_count": 5,
   "metadata": {},
   "outputs": [
    {
     "name": "stdout",
     "output_type": "stream",
     "text": [
      "One of my favourite book is Alice in wonderland\n"
     ]
    }
   ],
   "source": [
    "#Question 4:\n",
    "def favourite_book(title):\n",
    "    print(\"One of my favourite book is\" +\" \"+ title)\n",
    "favourite_book(\"Alice in wonderland\")"
   ]
  },
  {
   "cell_type": "code",
   "execution_count": 1,
   "metadata": {},
   "outputs": [
    {
     "name": "stdout",
     "output_type": "stream",
     "text": [
      "Hello! What is your name?\n",
      "Ayman\n",
      "Well, Ayman, I am thinking of a number between 1 and 30.\n",
      "Guess the number.\n",
      "5\n",
      "Your guess is too high.\n",
      "Guess the number.\n",
      "2\n",
      "Your guess is too high.\n",
      "Guess the number.\n",
      "1\n",
      "Good job, Ayman! You guessed my number in 3 guesses!\n"
     ]
    }
   ],
   "source": [
    "#Question 5:\n",
    "import random\n",
    "guessesTaken = 0\n",
    "print('Hello! What is your name?')\n",
    "myName = input()\n",
    "number = random.randint(1, 30)\n",
    "print('Well, ' + myName + ', I am thinking of a number between 1 and 30.')\n",
    "while guessesTaken < 3:\n",
    "    print('Guess the number.')\n",
    "    guess = int(input())\n",
    "    guessesTaken = guessesTaken + 1\n",
    "    if guess < number:\n",
    "        print('Your guess is too low') \n",
    "    elif guess > number:\n",
    "        print('Your guess is too high.')\n",
    "    elif guess == number:\n",
    "        break\n",
    "if guess == number:\n",
    "    guessesTaken = str(guessesTaken)\n",
    "    print('Good job, ' + myName + '! You guessed my number in ' + guessesTaken + ' guesses!')\n",
    "if guess != number:\n",
    "    number = str(number)\n",
    "    print('Nope. The number I was thinking of was ' + number)\n"
   ]
  }
 ],
 "metadata": {
  "kernelspec": {
   "display_name": "Python 3",
   "language": "python",
   "name": "python3"
  },
  "language_info": {
   "codemirror_mode": {
    "name": "ipython",
    "version": 3
   },
   "file_extension": ".py",
   "mimetype": "text/x-python",
   "name": "python",
   "nbconvert_exporter": "python",
   "pygments_lexer": "ipython3",
   "version": "3.7.4"
  }
 },
 "nbformat": 4,
 "nbformat_minor": 2
}
